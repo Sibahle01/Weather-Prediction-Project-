{
  "nbformat": 4,
  "nbformat_minor": 0,
  "metadata": {
    "colab": {
      "provenance": [],
      "mount_file_id": "16ElqX7YBmcoTpmD90v7VVv4C96srnNVg",
      "authorship_tag": "ABX9TyNUAT9ZZRmQKxy+IR99+5bk",
      "include_colab_link": true
    },
    "kernelspec": {
      "name": "python3",
      "display_name": "Python 3"
    },
    "language_info": {
      "name": "python"
    }
  },
  "cells": [
    {
      "cell_type": "markdown",
      "metadata": {
        "id": "view-in-github",
        "colab_type": "text"
      },
      "source": [
        "<a href=\"https://colab.research.google.com/github/Sibahle01/Weather-Prediction-Project-/blob/main/Fever_Prediction.ipynb\" target=\"_parent\"><img src=\"https://colab.research.google.com/assets/colab-badge.svg\" alt=\"Open In Colab\"/></a>"
      ]
    },
    {
      "cell_type": "code",
      "execution_count": 43,
      "metadata": {
        "colab": {
          "base_uri": "https://localhost:8080/"
        },
        "id": "A5fU34xOPKIv",
        "outputId": "11ce25d4-7d13-4deb-8920-6e424e57d507"
      },
      "outputs": [
        {
          "output_type": "execute_result",
          "data": {
            "text/plain": [
              "array([ 3,  8, 15])"
            ]
          },
          "metadata": {},
          "execution_count": 43
        }
      ],
      "source": [
        "import numpy as np\n",
        "\n",
        "a = np.array([1,2,3])\n",
        "b = np.array([3,4,5])\n",
        "\n",
        "a*b\n"
      ]
    },
    {
      "cell_type": "code",
      "source": [
        "a.ndim"
      ],
      "metadata": {
        "colab": {
          "base_uri": "https://localhost:8080/"
        },
        "id": "9V2V2MCxPoQt",
        "outputId": "32c9b39a-3dad-4210-d36c-7fdb28a78c19"
      },
      "execution_count": 44,
      "outputs": [
        {
          "output_type": "execute_result",
          "data": {
            "text/plain": [
              "1"
            ]
          },
          "metadata": {},
          "execution_count": 44
        }
      ]
    },
    {
      "cell_type": "code",
      "source": [
        "np.random.rand(4,4)"
      ],
      "metadata": {
        "colab": {
          "base_uri": "https://localhost:8080/"
        },
        "id": "MHz8izNvU_nu",
        "outputId": "693e4922-88f5-4b2d-a918-8c800568d202"
      },
      "execution_count": 45,
      "outputs": [
        {
          "output_type": "execute_result",
          "data": {
            "text/plain": [
              "array([[0.01814275, 0.82843061, 0.12473172, 0.14592063],\n",
              "       [0.52416613, 0.22795499, 0.51349302, 0.66292552],\n",
              "       [0.04841087, 0.00231586, 0.50685441, 0.55977069],\n",
              "       [0.19931481, 0.64869788, 0.84255178, 0.91378644]])"
            ]
          },
          "metadata": {},
          "execution_count": 45
        }
      ]
    },
    {
      "cell_type": "code",
      "source": [
        "a = np.array([0,1,2,3,4,5,6,7,8,9])"
      ],
      "metadata": {
        "id": "wYF0Y-15_4rG"
      },
      "execution_count": 46,
      "outputs": []
    },
    {
      "cell_type": "code",
      "source": [
        "np.ndim(a)"
      ],
      "metadata": {
        "colab": {
          "base_uri": "https://localhost:8080/"
        },
        "id": "v0S1ej2NAcUd",
        "outputId": "0cd0e486-26bd-4c1d-c27a-85e02daf8043"
      },
      "execution_count": 47,
      "outputs": [
        {
          "output_type": "execute_result",
          "data": {
            "text/plain": [
              "1"
            ]
          },
          "metadata": {},
          "execution_count": 47
        }
      ]
    },
    {
      "cell_type": "code",
      "source": [
        "b = np.ones([3,4])\n",
        "print(b)"
      ],
      "metadata": {
        "colab": {
          "base_uri": "https://localhost:8080/"
        },
        "id": "Qwyg1TbSAkM4",
        "outputId": "e078d80f-f8d3-421c-db3d-baa92456cdce"
      },
      "execution_count": 48,
      "outputs": [
        {
          "output_type": "stream",
          "name": "stdout",
          "text": [
            "[[1. 1. 1. 1.]\n",
            " [1. 1. 1. 1.]\n",
            " [1. 1. 1. 1.]]\n"
          ]
        }
      ]
    },
    {
      "cell_type": "code",
      "source": [
        "c = np.array([1, 2, 3])\n",
        "d = np.array([4, 5, 6])\n",
        "c + d"
      ],
      "metadata": {
        "colab": {
          "base_uri": "https://localhost:8080/"
        },
        "id": "jMAQKuUkA6Vt",
        "outputId": "fa089925-8b3c-4a57-f932-dd7e2b89c8ef"
      },
      "execution_count": 49,
      "outputs": [
        {
          "output_type": "execute_result",
          "data": {
            "text/plain": [
              "array([5, 7, 9])"
            ]
          },
          "metadata": {},
          "execution_count": 49
        }
      ]
    },
    {
      "cell_type": "code",
      "source": [
        "c * 3"
      ],
      "metadata": {
        "colab": {
          "base_uri": "https://localhost:8080/"
        },
        "id": "qkIjVtQKBKeS",
        "outputId": "abba95a1-612e-4d53-cd28-8f14bbedeb38"
      },
      "execution_count": 50,
      "outputs": [
        {
          "output_type": "execute_result",
          "data": {
            "text/plain": [
              "array([3, 6, 9])"
            ]
          },
          "metadata": {},
          "execution_count": 50
        }
      ]
    },
    {
      "cell_type": "code",
      "source": [
        "arr = np.array([[1, 2, 3], [4, 5, 6], [7, 8, 9]])"
      ],
      "metadata": {
        "id": "U913sWljBu-j"
      },
      "execution_count": 51,
      "outputs": []
    },
    {
      "cell_type": "code",
      "source": [
        "arr[::-1]"
      ],
      "metadata": {
        "colab": {
          "base_uri": "https://localhost:8080/"
        },
        "id": "U5UyskNmB0X0",
        "outputId": "3235d054-63ae-4693-bf3d-87ba41e5da93"
      },
      "execution_count": 52,
      "outputs": [
        {
          "output_type": "execute_result",
          "data": {
            "text/plain": [
              "array([[7, 8, 9],\n",
              "       [4, 5, 6],\n",
              "       [1, 2, 3]])"
            ]
          },
          "metadata": {},
          "execution_count": 52
        }
      ]
    },
    {
      "cell_type": "code",
      "source": [
        "arr[1,:-1]"
      ],
      "metadata": {
        "colab": {
          "base_uri": "https://localhost:8080/"
        },
        "id": "eZNU4o2fCHDr",
        "outputId": "237d3c80-c091-4f54-9057-d6c929796c53"
      },
      "execution_count": 53,
      "outputs": [
        {
          "output_type": "execute_result",
          "data": {
            "text/plain": [
              "array([4, 5])"
            ]
          },
          "metadata": {},
          "execution_count": 53
        }
      ]
    },
    {
      "cell_type": "code",
      "source": [
        "arr = np.array([[1, 2], [3, 4]])\n",
        "\n",
        "np.shape(arr)\n",
        "np.size(arr)"
      ],
      "metadata": {
        "colab": {
          "base_uri": "https://localhost:8080/"
        },
        "id": "8VoFjYuWDT7q",
        "outputId": "24f314d5-a7fa-4f7e-e149-0d5411bfa78e"
      },
      "execution_count": 54,
      "outputs": [
        {
          "output_type": "execute_result",
          "data": {
            "text/plain": [
              "4"
            ]
          },
          "metadata": {},
          "execution_count": 54
        }
      ]
    },
    {
      "cell_type": "code",
      "source": [
        "arr.dtype"
      ],
      "metadata": {
        "colab": {
          "base_uri": "https://localhost:8080/"
        },
        "id": "NmpsYOLdDnO6",
        "outputId": "f29ab05e-2b3c-447c-f1dd-bad1d65b3780"
      },
      "execution_count": 55,
      "outputs": [
        {
          "output_type": "execute_result",
          "data": {
            "text/plain": [
              "dtype('int64')"
            ]
          },
          "metadata": {},
          "execution_count": 55
        }
      ]
    },
    {
      "cell_type": "code",
      "source": [
        "A = np.array([[3, 1], [1, 2]])\n",
        "b = np.array([9, 8])\n",
        "\n",
        "A * b"
      ],
      "metadata": {
        "colab": {
          "base_uri": "https://localhost:8080/"
        },
        "id": "KUTOTgPjGSQK",
        "outputId": "4e20bb48-c532-4994-a340-8af5bc5e305a"
      },
      "execution_count": 56,
      "outputs": [
        {
          "output_type": "execute_result",
          "data": {
            "text/plain": [
              "array([[27,  8],\n",
              "       [ 9, 16]])"
            ]
          },
          "metadata": {},
          "execution_count": 56
        }
      ]
    },
    {
      "cell_type": "code",
      "source": [
        "arr = np.array([[4, 5, 6], [7, 8, 9]])\n",
        "F = np.array([1, 2, 3])\n",
        "arr + F\n"
      ],
      "metadata": {
        "colab": {
          "base_uri": "https://localhost:8080/"
        },
        "id": "uhG-IBYDJ92n",
        "outputId": "259a9e08-3285-4a0d-a0c6-d28bd126a5ba"
      },
      "execution_count": 57,
      "outputs": [
        {
          "output_type": "execute_result",
          "data": {
            "text/plain": [
              "array([[ 5,  7,  9],\n",
              "       [ 8, 10, 12]])"
            ]
          },
          "metadata": {},
          "execution_count": 57
        }
      ]
    },
    {
      "cell_type": "code",
      "source": [
        "arr = np.array([1, 2, 3, 4, 5])\n",
        "\n",
        "np.mean(arr)"
      ],
      "metadata": {
        "colab": {
          "base_uri": "https://localhost:8080/"
        },
        "id": "vnI7CRDLKNza",
        "outputId": "0a11283b-6a67-4d00-d434-ce779bf78d2f"
      },
      "execution_count": 58,
      "outputs": [
        {
          "output_type": "execute_result",
          "data": {
            "text/plain": [
              "3.0"
            ]
          },
          "metadata": {},
          "execution_count": 58
        }
      ]
    },
    {
      "cell_type": "code",
      "source": [
        "np.max(arr)"
      ],
      "metadata": {
        "colab": {
          "base_uri": "https://localhost:8080/"
        },
        "id": "hcAlZ7lKKZJI",
        "outputId": "48439ca2-f051-4437-9031-b229acaad876"
      },
      "execution_count": 59,
      "outputs": [
        {
          "output_type": "execute_result",
          "data": {
            "text/plain": [
              "5"
            ]
          },
          "metadata": {},
          "execution_count": 59
        }
      ]
    },
    {
      "cell_type": "code",
      "source": [
        "np.median(arr)"
      ],
      "metadata": {
        "colab": {
          "base_uri": "https://localhost:8080/"
        },
        "id": "1QjBsMs8KfXT",
        "outputId": "2c137290-cb5e-46db-eeb8-f00212afe9f5"
      },
      "execution_count": 60,
      "outputs": [
        {
          "output_type": "execute_result",
          "data": {
            "text/plain": [
              "3.0"
            ]
          },
          "metadata": {},
          "execution_count": 60
        }
      ]
    },
    {
      "cell_type": "code",
      "source": [
        "arr = np.array([3, 7, 2, 9, 1, 6])\n",
        "arr[arr>5]"
      ],
      "metadata": {
        "colab": {
          "base_uri": "https://localhost:8080/"
        },
        "id": "7vLxhQAEKri1",
        "outputId": "455dcf7c-508c-4705-cee8-be0c46e2c95c"
      },
      "execution_count": 61,
      "outputs": [
        {
          "output_type": "execute_result",
          "data": {
            "text/plain": [
              "array([7, 9, 6])"
            ]
          },
          "metadata": {},
          "execution_count": 61
        }
      ]
    },
    {
      "cell_type": "code",
      "source": [
        "arr = np.array([9, 3, 1, 7, 4])\n",
        "np.sort(arr)"
      ],
      "metadata": {
        "colab": {
          "base_uri": "https://localhost:8080/"
        },
        "id": "KsLmqQnAK9aN",
        "outputId": "88131c6e-c75f-41d2-f3a1-fd460c37cbe9"
      },
      "execution_count": 62,
      "outputs": [
        {
          "output_type": "execute_result",
          "data": {
            "text/plain": [
              "array([1, 3, 4, 7, 9])"
            ]
          },
          "metadata": {},
          "execution_count": 62
        }
      ]
    },
    {
      "cell_type": "code",
      "source": [
        "max_index = np.argmax(arr)\n",
        "max_index"
      ],
      "metadata": {
        "colab": {
          "base_uri": "https://localhost:8080/"
        },
        "id": "scIr-ajwLGPk",
        "outputId": "5a0eaf3a-26d8-406e-ac3d-65e503df85e7"
      },
      "execution_count": 63,
      "outputs": [
        {
          "output_type": "execute_result",
          "data": {
            "text/plain": [
              "0"
            ]
          },
          "metadata": {},
          "execution_count": 63
        }
      ]
    },
    {
      "cell_type": "code",
      "source": [
        "np.random.rand(3,3)"
      ],
      "metadata": {
        "colab": {
          "base_uri": "https://localhost:8080/"
        },
        "id": "KtLI15swLNy8",
        "outputId": "c75ce138-05d7-448c-9dde-72950b8016ab"
      },
      "execution_count": 64,
      "outputs": [
        {
          "output_type": "execute_result",
          "data": {
            "text/plain": [
              "array([[0.99311889, 0.71989313, 0.4299783 ],\n",
              "       [0.21960026, 0.08356777, 0.8857433 ],\n",
              "       [0.71029723, 0.79736609, 0.46319231]])"
            ]
          },
          "metadata": {},
          "execution_count": 64
        }
      ]
    },
    {
      "cell_type": "code",
      "source": [
        "rand_ints = np.random.randint(10, 50, size=5)"
      ],
      "metadata": {
        "id": "92Tts_UlNXvS"
      },
      "execution_count": 65,
      "outputs": []
    },
    {
      "cell_type": "code",
      "source": [
        "import pandas as pd\n",
        "from sklearn.model_selection import train_test_split\n",
        "from sklearn.preprocessing import LabelEncoder, StandardScaler\n",
        "from sklearn.ensemble import RandomForestClassifier\n",
        "from sklearn.metrics import classification_report, confusion_matrix\n",
        "\n",
        "\n",
        "data_path = '/content/drive/MyDrive/archive (13)/enhanced_fever_medicine_recommendation.csv'\n",
        "data = pd.read_csv(data_path)\n",
        "\n",
        "\n",
        "data['Previous_Medication'].fillna(\"None\", inplace=True)\n",
        "\n",
        "\n",
        "target = 'Fever_Severity'\n",
        "features = data.drop(columns=[target, 'Recommended_Medication'])\n",
        "labels = data[target]\n",
        "\n",
        "\n",
        "categorical_columns = features.select_dtypes(include=['object']).columns\n",
        "encoder = LabelEncoder()\n",
        "for column in categorical_columns:\n",
        "    features[column] = encoder.fit_transform(features[column])\n",
        "\n",
        "\n",
        "scaler = StandardScaler()\n",
        "numerical_columns = features.select_dtypes(include=['float64', 'int64']).columns\n",
        "features[numerical_columns] = scaler.fit_transform(features[numerical_columns])\n",
        "\n",
        "\n",
        "X_train, X_test, y_train, y_test = train_test_split(features, labels, test_size=0.2, random_state=42)\n",
        "\n",
        "\n",
        "model = RandomForestClassifier(random_state=42)\n",
        "model.fit(X_train, y_train)\n",
        "\n",
        "\n",
        "y_pred = model.predict(X_test)\n",
        "\n",
        "\n",
        "print(\"Confusion Matrix:\")\n",
        "print(confusion_matrix(y_test, y_pred))\n",
        "print(\"\\nClassification Report:\")\n",
        "print(classification_report(y_test, y_pred))\n"
      ],
      "metadata": {
        "colab": {
          "base_uri": "https://localhost:8080/"
        },
        "id": "Q8L3O07BO5ny",
        "outputId": "3f5d1484-20e3-40d3-d0a7-f488c7b743e0"
      },
      "execution_count": 66,
      "outputs": [
        {
          "output_type": "stream",
          "name": "stderr",
          "text": [
            "<ipython-input-66-02407dabcf1f>:12: FutureWarning: A value is trying to be set on a copy of a DataFrame or Series through chained assignment using an inplace method.\n",
            "The behavior will change in pandas 3.0. This inplace method will never work because the intermediate object on which we are setting values always behaves as a copy.\n",
            "\n",
            "For example, when doing 'df[col].method(value, inplace=True)', try using 'df.method({col: value}, inplace=True)' or df[col] = df[col].method(value) instead, to perform the operation inplace on the original object.\n",
            "\n",
            "\n",
            "  data['Previous_Medication'].fillna(\"None\", inplace=True)\n"
          ]
        },
        {
          "output_type": "stream",
          "name": "stdout",
          "text": [
            "Confusion Matrix:\n",
            "[[110   0   0]\n",
            " [  0  35   0]\n",
            " [  0   0  55]]\n",
            "\n",
            "Classification Report:\n",
            "              precision    recall  f1-score   support\n",
            "\n",
            "  High Fever       1.00      1.00      1.00       110\n",
            "  Mild Fever       1.00      1.00      1.00        35\n",
            "      Normal       1.00      1.00      1.00        55\n",
            "\n",
            "    accuracy                           1.00       200\n",
            "   macro avg       1.00      1.00      1.00       200\n",
            "weighted avg       1.00      1.00      1.00       200\n",
            "\n"
          ]
        }
      ]
    },
    {
      "cell_type": "code",
      "source": [
        "import joblib\n",
        "\n",
        "\n",
        "joblib.dump(model, 'fever_severity_predictor.pkl')\n",
        "print(\"Model saved as 'fever_severity_predictor.pkl'\")\n"
      ],
      "metadata": {
        "colab": {
          "base_uri": "https://localhost:8080/"
        },
        "id": "WXwrvzmZQQC7",
        "outputId": "7d6ee12a-d4e8-4902-c9f9-b26e22282410"
      },
      "execution_count": 67,
      "outputs": [
        {
          "output_type": "stream",
          "name": "stdout",
          "text": [
            "Model saved as 'fever_severity_predictor.pkl'\n"
          ]
        }
      ]
    },
    {
      "cell_type": "code",
      "source": [
        "data.head()"
      ],
      "metadata": {
        "colab": {
          "base_uri": "https://localhost:8080/",
          "height": 244
        },
        "id": "c8_hu_QwQivT",
        "outputId": "f2b66995-9cfc-477c-e84a-ae53b94e4987"
      },
      "execution_count": 68,
      "outputs": [
        {
          "output_type": "execute_result",
          "data": {
            "text/plain": [
              "   Temperature Fever_Severity  Age  Gender   BMI Headache Body_Ache Fatigue  \\\n",
              "0         36.1         Normal   89  Female  24.0       No       Yes      No   \n",
              "1         37.5     Mild Fever   94    Male  26.6       No        No      No   \n",
              "2         36.4         Normal   92    Male  27.8       No        No      No   \n",
              "3         39.8     High Fever   66    Male  18.7       No       Yes      No   \n",
              "4         39.3     High Fever   28    Male  21.0       No       Yes      No   \n",
              "\n",
              "  Chronic_Conditions Allergies Smoking_History Alcohol_Consumption  Humidity  \\\n",
              "0                 No       Yes              No                 Yes      81.4   \n",
              "1                Yes        No             Yes                 Yes      44.4   \n",
              "2                 No        No              No                 Yes      73.7   \n",
              "3                 No        No              No                  No      44.1   \n",
              "4                Yes       Yes             Yes                 Yes      65.9   \n",
              "\n",
              "   AQI Physical_Activity       Diet_Type  Heart_Rate Blood_Pressure  \\\n",
              "0  430          Moderate           Vegan          72         Normal   \n",
              "1   10            Active      Vegetarian          62           High   \n",
              "2  400         Sedentary           Vegan          85           High   \n",
              "3  438            Active  Non-Vegetarian          96           High   \n",
              "4  451            Active      Vegetarian          85            Low   \n",
              "\n",
              "  Previous_Medication Recommended_Medication  \n",
              "0                None              Ibuprofen  \n",
              "1           Ibuprofen            Paracetamol  \n",
              "2                None              Ibuprofen  \n",
              "3           Ibuprofen              Ibuprofen  \n",
              "4         Paracetamol              Ibuprofen  "
            ],
            "text/html": [
              "\n",
              "  <div id=\"df-78ef65c4-7fd2-4324-8f45-2c7b505c29fe\" class=\"colab-df-container\">\n",
              "    <div>\n",
              "<style scoped>\n",
              "    .dataframe tbody tr th:only-of-type {\n",
              "        vertical-align: middle;\n",
              "    }\n",
              "\n",
              "    .dataframe tbody tr th {\n",
              "        vertical-align: top;\n",
              "    }\n",
              "\n",
              "    .dataframe thead th {\n",
              "        text-align: right;\n",
              "    }\n",
              "</style>\n",
              "<table border=\"1\" class=\"dataframe\">\n",
              "  <thead>\n",
              "    <tr style=\"text-align: right;\">\n",
              "      <th></th>\n",
              "      <th>Temperature</th>\n",
              "      <th>Fever_Severity</th>\n",
              "      <th>Age</th>\n",
              "      <th>Gender</th>\n",
              "      <th>BMI</th>\n",
              "      <th>Headache</th>\n",
              "      <th>Body_Ache</th>\n",
              "      <th>Fatigue</th>\n",
              "      <th>Chronic_Conditions</th>\n",
              "      <th>Allergies</th>\n",
              "      <th>Smoking_History</th>\n",
              "      <th>Alcohol_Consumption</th>\n",
              "      <th>Humidity</th>\n",
              "      <th>AQI</th>\n",
              "      <th>Physical_Activity</th>\n",
              "      <th>Diet_Type</th>\n",
              "      <th>Heart_Rate</th>\n",
              "      <th>Blood_Pressure</th>\n",
              "      <th>Previous_Medication</th>\n",
              "      <th>Recommended_Medication</th>\n",
              "    </tr>\n",
              "  </thead>\n",
              "  <tbody>\n",
              "    <tr>\n",
              "      <th>0</th>\n",
              "      <td>36.1</td>\n",
              "      <td>Normal</td>\n",
              "      <td>89</td>\n",
              "      <td>Female</td>\n",
              "      <td>24.0</td>\n",
              "      <td>No</td>\n",
              "      <td>Yes</td>\n",
              "      <td>No</td>\n",
              "      <td>No</td>\n",
              "      <td>Yes</td>\n",
              "      <td>No</td>\n",
              "      <td>Yes</td>\n",
              "      <td>81.4</td>\n",
              "      <td>430</td>\n",
              "      <td>Moderate</td>\n",
              "      <td>Vegan</td>\n",
              "      <td>72</td>\n",
              "      <td>Normal</td>\n",
              "      <td>None</td>\n",
              "      <td>Ibuprofen</td>\n",
              "    </tr>\n",
              "    <tr>\n",
              "      <th>1</th>\n",
              "      <td>37.5</td>\n",
              "      <td>Mild Fever</td>\n",
              "      <td>94</td>\n",
              "      <td>Male</td>\n",
              "      <td>26.6</td>\n",
              "      <td>No</td>\n",
              "      <td>No</td>\n",
              "      <td>No</td>\n",
              "      <td>Yes</td>\n",
              "      <td>No</td>\n",
              "      <td>Yes</td>\n",
              "      <td>Yes</td>\n",
              "      <td>44.4</td>\n",
              "      <td>10</td>\n",
              "      <td>Active</td>\n",
              "      <td>Vegetarian</td>\n",
              "      <td>62</td>\n",
              "      <td>High</td>\n",
              "      <td>Ibuprofen</td>\n",
              "      <td>Paracetamol</td>\n",
              "    </tr>\n",
              "    <tr>\n",
              "      <th>2</th>\n",
              "      <td>36.4</td>\n",
              "      <td>Normal</td>\n",
              "      <td>92</td>\n",
              "      <td>Male</td>\n",
              "      <td>27.8</td>\n",
              "      <td>No</td>\n",
              "      <td>No</td>\n",
              "      <td>No</td>\n",
              "      <td>No</td>\n",
              "      <td>No</td>\n",
              "      <td>No</td>\n",
              "      <td>Yes</td>\n",
              "      <td>73.7</td>\n",
              "      <td>400</td>\n",
              "      <td>Sedentary</td>\n",
              "      <td>Vegan</td>\n",
              "      <td>85</td>\n",
              "      <td>High</td>\n",
              "      <td>None</td>\n",
              "      <td>Ibuprofen</td>\n",
              "    </tr>\n",
              "    <tr>\n",
              "      <th>3</th>\n",
              "      <td>39.8</td>\n",
              "      <td>High Fever</td>\n",
              "      <td>66</td>\n",
              "      <td>Male</td>\n",
              "      <td>18.7</td>\n",
              "      <td>No</td>\n",
              "      <td>Yes</td>\n",
              "      <td>No</td>\n",
              "      <td>No</td>\n",
              "      <td>No</td>\n",
              "      <td>No</td>\n",
              "      <td>No</td>\n",
              "      <td>44.1</td>\n",
              "      <td>438</td>\n",
              "      <td>Active</td>\n",
              "      <td>Non-Vegetarian</td>\n",
              "      <td>96</td>\n",
              "      <td>High</td>\n",
              "      <td>Ibuprofen</td>\n",
              "      <td>Ibuprofen</td>\n",
              "    </tr>\n",
              "    <tr>\n",
              "      <th>4</th>\n",
              "      <td>39.3</td>\n",
              "      <td>High Fever</td>\n",
              "      <td>28</td>\n",
              "      <td>Male</td>\n",
              "      <td>21.0</td>\n",
              "      <td>No</td>\n",
              "      <td>Yes</td>\n",
              "      <td>No</td>\n",
              "      <td>Yes</td>\n",
              "      <td>Yes</td>\n",
              "      <td>Yes</td>\n",
              "      <td>Yes</td>\n",
              "      <td>65.9</td>\n",
              "      <td>451</td>\n",
              "      <td>Active</td>\n",
              "      <td>Vegetarian</td>\n",
              "      <td>85</td>\n",
              "      <td>Low</td>\n",
              "      <td>Paracetamol</td>\n",
              "      <td>Ibuprofen</td>\n",
              "    </tr>\n",
              "  </tbody>\n",
              "</table>\n",
              "</div>\n",
              "    <div class=\"colab-df-buttons\">\n",
              "\n",
              "  <div class=\"colab-df-container\">\n",
              "    <button class=\"colab-df-convert\" onclick=\"convertToInteractive('df-78ef65c4-7fd2-4324-8f45-2c7b505c29fe')\"\n",
              "            title=\"Convert this dataframe to an interactive table.\"\n",
              "            style=\"display:none;\">\n",
              "\n",
              "  <svg xmlns=\"http://www.w3.org/2000/svg\" height=\"24px\" viewBox=\"0 -960 960 960\">\n",
              "    <path d=\"M120-120v-720h720v720H120Zm60-500h600v-160H180v160Zm220 220h160v-160H400v160Zm0 220h160v-160H400v160ZM180-400h160v-160H180v160Zm440 0h160v-160H620v160ZM180-180h160v-160H180v160Zm440 0h160v-160H620v160Z\"/>\n",
              "  </svg>\n",
              "    </button>\n",
              "\n",
              "  <style>\n",
              "    .colab-df-container {\n",
              "      display:flex;\n",
              "      gap: 12px;\n",
              "    }\n",
              "\n",
              "    .colab-df-convert {\n",
              "      background-color: #E8F0FE;\n",
              "      border: none;\n",
              "      border-radius: 50%;\n",
              "      cursor: pointer;\n",
              "      display: none;\n",
              "      fill: #1967D2;\n",
              "      height: 32px;\n",
              "      padding: 0 0 0 0;\n",
              "      width: 32px;\n",
              "    }\n",
              "\n",
              "    .colab-df-convert:hover {\n",
              "      background-color: #E2EBFA;\n",
              "      box-shadow: 0px 1px 2px rgba(60, 64, 67, 0.3), 0px 1px 3px 1px rgba(60, 64, 67, 0.15);\n",
              "      fill: #174EA6;\n",
              "    }\n",
              "\n",
              "    .colab-df-buttons div {\n",
              "      margin-bottom: 4px;\n",
              "    }\n",
              "\n",
              "    [theme=dark] .colab-df-convert {\n",
              "      background-color: #3B4455;\n",
              "      fill: #D2E3FC;\n",
              "    }\n",
              "\n",
              "    [theme=dark] .colab-df-convert:hover {\n",
              "      background-color: #434B5C;\n",
              "      box-shadow: 0px 1px 3px 1px rgba(0, 0, 0, 0.15);\n",
              "      filter: drop-shadow(0px 1px 2px rgba(0, 0, 0, 0.3));\n",
              "      fill: #FFFFFF;\n",
              "    }\n",
              "  </style>\n",
              "\n",
              "    <script>\n",
              "      const buttonEl =\n",
              "        document.querySelector('#df-78ef65c4-7fd2-4324-8f45-2c7b505c29fe button.colab-df-convert');\n",
              "      buttonEl.style.display =\n",
              "        google.colab.kernel.accessAllowed ? 'block' : 'none';\n",
              "\n",
              "      async function convertToInteractive(key) {\n",
              "        const element = document.querySelector('#df-78ef65c4-7fd2-4324-8f45-2c7b505c29fe');\n",
              "        const dataTable =\n",
              "          await google.colab.kernel.invokeFunction('convertToInteractive',\n",
              "                                                    [key], {});\n",
              "        if (!dataTable) return;\n",
              "\n",
              "        const docLinkHtml = 'Like what you see? Visit the ' +\n",
              "          '<a target=\"_blank\" href=https://colab.research.google.com/notebooks/data_table.ipynb>data table notebook</a>'\n",
              "          + ' to learn more about interactive tables.';\n",
              "        element.innerHTML = '';\n",
              "        dataTable['output_type'] = 'display_data';\n",
              "        await google.colab.output.renderOutput(dataTable, element);\n",
              "        const docLink = document.createElement('div');\n",
              "        docLink.innerHTML = docLinkHtml;\n",
              "        element.appendChild(docLink);\n",
              "      }\n",
              "    </script>\n",
              "  </div>\n",
              "\n",
              "\n",
              "<div id=\"df-6f4fefbe-ebec-4a3d-b8eb-1a2f9b88b0a9\">\n",
              "  <button class=\"colab-df-quickchart\" onclick=\"quickchart('df-6f4fefbe-ebec-4a3d-b8eb-1a2f9b88b0a9')\"\n",
              "            title=\"Suggest charts\"\n",
              "            style=\"display:none;\">\n",
              "\n",
              "<svg xmlns=\"http://www.w3.org/2000/svg\" height=\"24px\"viewBox=\"0 0 24 24\"\n",
              "     width=\"24px\">\n",
              "    <g>\n",
              "        <path d=\"M19 3H5c-1.1 0-2 .9-2 2v14c0 1.1.9 2 2 2h14c1.1 0 2-.9 2-2V5c0-1.1-.9-2-2-2zM9 17H7v-7h2v7zm4 0h-2V7h2v10zm4 0h-2v-4h2v4z\"/>\n",
              "    </g>\n",
              "</svg>\n",
              "  </button>\n",
              "\n",
              "<style>\n",
              "  .colab-df-quickchart {\n",
              "      --bg-color: #E8F0FE;\n",
              "      --fill-color: #1967D2;\n",
              "      --hover-bg-color: #E2EBFA;\n",
              "      --hover-fill-color: #174EA6;\n",
              "      --disabled-fill-color: #AAA;\n",
              "      --disabled-bg-color: #DDD;\n",
              "  }\n",
              "\n",
              "  [theme=dark] .colab-df-quickchart {\n",
              "      --bg-color: #3B4455;\n",
              "      --fill-color: #D2E3FC;\n",
              "      --hover-bg-color: #434B5C;\n",
              "      --hover-fill-color: #FFFFFF;\n",
              "      --disabled-bg-color: #3B4455;\n",
              "      --disabled-fill-color: #666;\n",
              "  }\n",
              "\n",
              "  .colab-df-quickchart {\n",
              "    background-color: var(--bg-color);\n",
              "    border: none;\n",
              "    border-radius: 50%;\n",
              "    cursor: pointer;\n",
              "    display: none;\n",
              "    fill: var(--fill-color);\n",
              "    height: 32px;\n",
              "    padding: 0;\n",
              "    width: 32px;\n",
              "  }\n",
              "\n",
              "  .colab-df-quickchart:hover {\n",
              "    background-color: var(--hover-bg-color);\n",
              "    box-shadow: 0 1px 2px rgba(60, 64, 67, 0.3), 0 1px 3px 1px rgba(60, 64, 67, 0.15);\n",
              "    fill: var(--button-hover-fill-color);\n",
              "  }\n",
              "\n",
              "  .colab-df-quickchart-complete:disabled,\n",
              "  .colab-df-quickchart-complete:disabled:hover {\n",
              "    background-color: var(--disabled-bg-color);\n",
              "    fill: var(--disabled-fill-color);\n",
              "    box-shadow: none;\n",
              "  }\n",
              "\n",
              "  .colab-df-spinner {\n",
              "    border: 2px solid var(--fill-color);\n",
              "    border-color: transparent;\n",
              "    border-bottom-color: var(--fill-color);\n",
              "    animation:\n",
              "      spin 1s steps(1) infinite;\n",
              "  }\n",
              "\n",
              "  @keyframes spin {\n",
              "    0% {\n",
              "      border-color: transparent;\n",
              "      border-bottom-color: var(--fill-color);\n",
              "      border-left-color: var(--fill-color);\n",
              "    }\n",
              "    20% {\n",
              "      border-color: transparent;\n",
              "      border-left-color: var(--fill-color);\n",
              "      border-top-color: var(--fill-color);\n",
              "    }\n",
              "    30% {\n",
              "      border-color: transparent;\n",
              "      border-left-color: var(--fill-color);\n",
              "      border-top-color: var(--fill-color);\n",
              "      border-right-color: var(--fill-color);\n",
              "    }\n",
              "    40% {\n",
              "      border-color: transparent;\n",
              "      border-right-color: var(--fill-color);\n",
              "      border-top-color: var(--fill-color);\n",
              "    }\n",
              "    60% {\n",
              "      border-color: transparent;\n",
              "      border-right-color: var(--fill-color);\n",
              "    }\n",
              "    80% {\n",
              "      border-color: transparent;\n",
              "      border-right-color: var(--fill-color);\n",
              "      border-bottom-color: var(--fill-color);\n",
              "    }\n",
              "    90% {\n",
              "      border-color: transparent;\n",
              "      border-bottom-color: var(--fill-color);\n",
              "    }\n",
              "  }\n",
              "</style>\n",
              "\n",
              "  <script>\n",
              "    async function quickchart(key) {\n",
              "      const quickchartButtonEl =\n",
              "        document.querySelector('#' + key + ' button');\n",
              "      quickchartButtonEl.disabled = true;  // To prevent multiple clicks.\n",
              "      quickchartButtonEl.classList.add('colab-df-spinner');\n",
              "      try {\n",
              "        const charts = await google.colab.kernel.invokeFunction(\n",
              "            'suggestCharts', [key], {});\n",
              "      } catch (error) {\n",
              "        console.error('Error during call to suggestCharts:', error);\n",
              "      }\n",
              "      quickchartButtonEl.classList.remove('colab-df-spinner');\n",
              "      quickchartButtonEl.classList.add('colab-df-quickchart-complete');\n",
              "    }\n",
              "    (() => {\n",
              "      let quickchartButtonEl =\n",
              "        document.querySelector('#df-6f4fefbe-ebec-4a3d-b8eb-1a2f9b88b0a9 button');\n",
              "      quickchartButtonEl.style.display =\n",
              "        google.colab.kernel.accessAllowed ? 'block' : 'none';\n",
              "    })();\n",
              "  </script>\n",
              "</div>\n",
              "\n",
              "    </div>\n",
              "  </div>\n"
            ],
            "application/vnd.google.colaboratory.intrinsic+json": {
              "type": "dataframe",
              "variable_name": "data",
              "summary": "{\n  \"name\": \"data\",\n  \"rows\": 1000,\n  \"fields\": [\n    {\n      \"column\": \"Temperature\",\n      \"properties\": {\n        \"dtype\": \"number\",\n        \"std\": 1.1388704122137074,\n        \"min\": 36.0,\n        \"max\": 40.0,\n        \"num_unique_values\": 41,\n        \"samples\": [\n          38.0,\n          38.1,\n          36.7\n        ],\n        \"semantic_type\": \"\",\n        \"description\": \"\"\n      }\n    },\n    {\n      \"column\": \"Fever_Severity\",\n      \"properties\": {\n        \"dtype\": \"category\",\n        \"num_unique_values\": 3,\n        \"samples\": [\n          \"Normal\",\n          \"Mild Fever\",\n          \"High Fever\"\n        ],\n        \"semantic_type\": \"\",\n        \"description\": \"\"\n      }\n    },\n    {\n      \"column\": \"Age\",\n      \"properties\": {\n        \"dtype\": \"number\",\n        \"std\": 28,\n        \"min\": 1,\n        \"max\": 100,\n        \"num_unique_values\": 100,\n        \"samples\": [\n          43,\n          70,\n          62\n        ],\n        \"semantic_type\": \"\",\n        \"description\": \"\"\n      }\n    },\n    {\n      \"column\": \"Gender\",\n      \"properties\": {\n        \"dtype\": \"category\",\n        \"num_unique_values\": 2,\n        \"samples\": [\n          \"Male\",\n          \"Female\"\n        ],\n        \"semantic_type\": \"\",\n        \"description\": \"\"\n      }\n    },\n    {\n      \"column\": \"BMI\",\n      \"properties\": {\n        \"dtype\": \"number\",\n        \"std\": 4.901150378741198,\n        \"min\": 18.0,\n        \"max\": 35.0,\n        \"num_unique_values\": 170,\n        \"samples\": [\n          35.0,\n          33.4\n        ],\n        \"semantic_type\": \"\",\n        \"description\": \"\"\n      }\n    },\n    {\n      \"column\": \"Headache\",\n      \"properties\": {\n        \"dtype\": \"category\",\n        \"num_unique_values\": 2,\n        \"samples\": [\n          \"Yes\",\n          \"No\"\n        ],\n        \"semantic_type\": \"\",\n        \"description\": \"\"\n      }\n    },\n    {\n      \"column\": \"Body_Ache\",\n      \"properties\": {\n        \"dtype\": \"category\",\n        \"num_unique_values\": 2,\n        \"samples\": [\n          \"No\",\n          \"Yes\"\n        ],\n        \"semantic_type\": \"\",\n        \"description\": \"\"\n      }\n    },\n    {\n      \"column\": \"Fatigue\",\n      \"properties\": {\n        \"dtype\": \"category\",\n        \"num_unique_values\": 2,\n        \"samples\": [\n          \"Yes\",\n          \"No\"\n        ],\n        \"semantic_type\": \"\",\n        \"description\": \"\"\n      }\n    },\n    {\n      \"column\": \"Chronic_Conditions\",\n      \"properties\": {\n        \"dtype\": \"category\",\n        \"num_unique_values\": 2,\n        \"samples\": [\n          \"Yes\",\n          \"No\"\n        ],\n        \"semantic_type\": \"\",\n        \"description\": \"\"\n      }\n    },\n    {\n      \"column\": \"Allergies\",\n      \"properties\": {\n        \"dtype\": \"category\",\n        \"num_unique_values\": 2,\n        \"samples\": [\n          \"No\",\n          \"Yes\"\n        ],\n        \"semantic_type\": \"\",\n        \"description\": \"\"\n      }\n    },\n    {\n      \"column\": \"Smoking_History\",\n      \"properties\": {\n        \"dtype\": \"category\",\n        \"num_unique_values\": 2,\n        \"samples\": [\n          \"Yes\",\n          \"No\"\n        ],\n        \"semantic_type\": \"\",\n        \"description\": \"\"\n      }\n    },\n    {\n      \"column\": \"Alcohol_Consumption\",\n      \"properties\": {\n        \"dtype\": \"category\",\n        \"num_unique_values\": 2,\n        \"samples\": [\n          \"No\",\n          \"Yes\"\n        ],\n        \"semantic_type\": \"\",\n        \"description\": \"\"\n      }\n    },\n    {\n      \"column\": \"Humidity\",\n      \"properties\": {\n        \"dtype\": \"number\",\n        \"std\": 17.05847473252518,\n        \"min\": 30.0,\n        \"max\": 90.0,\n        \"num_unique_values\": 489,\n        \"samples\": [\n          65.0,\n          35.8\n        ],\n        \"semantic_type\": \"\",\n        \"description\": \"\"\n      }\n    },\n    {\n      \"column\": \"AQI\",\n      \"properties\": {\n        \"dtype\": \"number\",\n        \"std\": 143,\n        \"min\": 0,\n        \"max\": 499,\n        \"num_unique_values\": 428,\n        \"samples\": [\n          234,\n          151\n        ],\n        \"semantic_type\": \"\",\n        \"description\": \"\"\n      }\n    },\n    {\n      \"column\": \"Physical_Activity\",\n      \"properties\": {\n        \"dtype\": \"category\",\n        \"num_unique_values\": 3,\n        \"samples\": [\n          \"Moderate\",\n          \"Active\"\n        ],\n        \"semantic_type\": \"\",\n        \"description\": \"\"\n      }\n    },\n    {\n      \"column\": \"Diet_Type\",\n      \"properties\": {\n        \"dtype\": \"category\",\n        \"num_unique_values\": 3,\n        \"samples\": [\n          \"Vegan\",\n          \"Vegetarian\"\n        ],\n        \"semantic_type\": \"\",\n        \"description\": \"\"\n      }\n    },\n    {\n      \"column\": \"Heart_Rate\",\n      \"properties\": {\n        \"dtype\": \"number\",\n        \"std\": 11,\n        \"min\": 60,\n        \"max\": 100,\n        \"num_unique_values\": 41,\n        \"samples\": [\n          89,\n          97\n        ],\n        \"semantic_type\": \"\",\n        \"description\": \"\"\n      }\n    },\n    {\n      \"column\": \"Blood_Pressure\",\n      \"properties\": {\n        \"dtype\": \"category\",\n        \"num_unique_values\": 3,\n        \"samples\": [\n          \"Normal\",\n          \"High\"\n        ],\n        \"semantic_type\": \"\",\n        \"description\": \"\"\n      }\n    },\n    {\n      \"column\": \"Previous_Medication\",\n      \"properties\": {\n        \"dtype\": \"category\",\n        \"num_unique_values\": 4,\n        \"samples\": [\n          \"Ibuprofen\",\n          \"Aspirin\"\n        ],\n        \"semantic_type\": \"\",\n        \"description\": \"\"\n      }\n    },\n    {\n      \"column\": \"Recommended_Medication\",\n      \"properties\": {\n        \"dtype\": \"category\",\n        \"num_unique_values\": 2,\n        \"samples\": [\n          \"Paracetamol\",\n          \"Ibuprofen\"\n        ],\n        \"semantic_type\": \"\",\n        \"description\": \"\"\n      }\n    }\n  ]\n}"
            }
          },
          "metadata": {},
          "execution_count": 68
        }
      ]
    },
    {
      "cell_type": "code",
      "source": [
        "import pandas as pd\n",
        "import joblib"
      ],
      "metadata": {
        "id": "kyiU45obRnxD"
      },
      "execution_count": 69,
      "outputs": []
    },
    {
      "cell_type": "code",
      "source": [
        "model = joblib.load('fever_model.pkl')\n",
        "encoder = joblib.load('label_encoder.pkl')\n",
        "scaler = joblib.load('scaler.pkl')\n",
        "\n",
        "\n",
        "def encode_with_fallback(data, encoder, column):\n",
        "    unique_categories = list(encoder.classes_)\n",
        "    data[column] = data[column].apply(lambda x: x if x in unique_categories else unique_categories[0])\n",
        "    return encoder.transform(data[column])\n",
        "\n",
        "\n",
        "sample_data = {\n",
        "    'Temperature': [101.5],\n",
        "    'Age': [25],\n",
        "    'Gender': ['Male'],\n",
        "    'BMI': [22.5],\n",
        "    'Headache': ['Yes'],\n",
        "    'Body_Ache': ['Yes'],\n",
        "    'Fatigue': ['No'],\n",
        "    'Chronic_Conditions': ['None'],\n",
        "    'Allergies': ['None'],\n",
        "    'Smoking_History': ['No'],\n",
        "    'Alcohol_Consumption': ['No'],\n",
        "    'Humidity': [45.0],\n",
        "    'AQI': [70],\n",
        "    'Physical_Activity': ['Moderate'],\n",
        "    'Diet_Type': ['Vegetarian'],\n",
        "    'Heart_Rate': [72],\n",
        "    'Blood_Pressure': ['Normal'],\n",
        "    'Previous_Medication': ['None'],\n",
        "}\n",
        "\n",
        "# Convert input to DataFrame\n",
        "input_df = pd.DataFrame(sample_data)\n",
        "\n",
        "# Encode categorical features with fallback\n",
        "categorical_columns = input_df.select_dtypes(include=['object']).columns\n",
        "for column in categorical_columns:\n",
        "    input_df[column] = encode_with_fallback(input_df, encoder, column)\n",
        "\n",
        "# Scale numerical features\n",
        "numerical_columns = input_df.select_dtypes(include=['float64', 'int64']).columns\n",
        "input_df[numerical_columns] = scaler.transform(input_df[numerical_columns])\n",
        "\n",
        "# Predict\n",
        "prediction = model.predict(input_df)\n",
        "print(\"Predicted Fever Severity:\", prediction[0])\n"
      ],
      "metadata": {
        "colab": {
          "base_uri": "https://localhost:8080/"
        },
        "id": "m0R6xXeQQYBu",
        "outputId": "6bc5a7b5-e585-4f6a-b7dd-7115c15db58e"
      },
      "execution_count": 70,
      "outputs": [
        {
          "output_type": "stream",
          "name": "stdout",
          "text": [
            "Predicted Fever Severity: High Fever\n"
          ]
        }
      ]
    },
    {
      "cell_type": "code",
      "source": [
        "import pandas as pd\n",
        "from sklearn.model_selection import train_test_split\n",
        "from sklearn.preprocessing import LabelEncoder, StandardScaler\n",
        "from sklearn.ensemble import RandomForestClassifier\n",
        "from sklearn.metrics import classification_report, confusion_matrix\n",
        "import joblib\n",
        "\n",
        "\n",
        "data_path = '/content/drive/MyDrive/archive (13)/enhanced_fever_medicine_recommendation.csv'\n",
        "data = pd.read_csv(data_path)\n",
        "\n",
        "\n",
        "data['Previous_Medication'].fillna(\"None\", inplace=True)\n",
        "\n",
        "\n",
        "target = 'Fever_Severity'\n",
        "features = data.drop(columns=[target, 'Recommended_Medication'])\n",
        "labels = data[target]\n",
        "\n",
        "\n",
        "categorical_columns = features.select_dtypes(include=['object']).columns\n",
        "encoder = LabelEncoder()\n",
        "for column in categorical_columns:\n",
        "    features[column] = encoder.fit_transform(features[column])\n",
        "\n",
        "\n",
        "joblib.dump(encoder, 'label_encoder.pkl')\n",
        "\n",
        "\n",
        "scaler = StandardScaler()\n",
        "numerical_columns = features.select_dtypes(include=['float64', 'int64']).columns\n",
        "features[numerical_columns] = scaler.fit_transform(features[numerical_columns])\n",
        "\n",
        "\n",
        "joblib.dump(scaler, 'scaler.pkl')\n",
        "\n",
        "\n",
        "X_train, X_test, y_train, y_test = train_test_split(features, labels, test_size=0.2, random_state=42)\n",
        "\n",
        "\n",
        "model = RandomForestClassifier(random_state=42)\n",
        "model.fit(X_train, y_train)\n",
        "\n",
        "\n",
        "joblib.dump(model, 'fever_model.pkl')\n",
        "\n",
        "\n",
        "y_pred = model.predict(X_test)\n",
        "print(\"Confusion Matrix:\")\n",
        "print(confusion_matrix(y_test, y_pred))\n",
        "print(\"\\nClassification Report:\")\n",
        "print(classification_report(y_test, y_pred))\n"
      ],
      "metadata": {
        "colab": {
          "base_uri": "https://localhost:8080/"
        },
        "id": "5-S-HS1iR7HS",
        "outputId": "4189ffac-192b-4d66-bb8b-1ba28b63f0f1"
      },
      "execution_count": 71,
      "outputs": [
        {
          "output_type": "stream",
          "name": "stderr",
          "text": [
            "<ipython-input-71-b68f33172aac>:13: FutureWarning: A value is trying to be set on a copy of a DataFrame or Series through chained assignment using an inplace method.\n",
            "The behavior will change in pandas 3.0. This inplace method will never work because the intermediate object on which we are setting values always behaves as a copy.\n",
            "\n",
            "For example, when doing 'df[col].method(value, inplace=True)', try using 'df.method({col: value}, inplace=True)' or df[col] = df[col].method(value) instead, to perform the operation inplace on the original object.\n",
            "\n",
            "\n",
            "  data['Previous_Medication'].fillna(\"None\", inplace=True)\n"
          ]
        },
        {
          "output_type": "stream",
          "name": "stdout",
          "text": [
            "Confusion Matrix:\n",
            "[[110   0   0]\n",
            " [  0  35   0]\n",
            " [  0   0  55]]\n",
            "\n",
            "Classification Report:\n",
            "              precision    recall  f1-score   support\n",
            "\n",
            "  High Fever       1.00      1.00      1.00       110\n",
            "  Mild Fever       1.00      1.00      1.00        35\n",
            "      Normal       1.00      1.00      1.00        55\n",
            "\n",
            "    accuracy                           1.00       200\n",
            "   macro avg       1.00      1.00      1.00       200\n",
            "weighted avg       1.00      1.00      1.00       200\n",
            "\n"
          ]
        }
      ]
    },
    {
      "cell_type": "code",
      "source": [
        "data.head()"
      ],
      "metadata": {
        "colab": {
          "base_uri": "https://localhost:8080/",
          "height": 244
        },
        "id": "Vdz5smAyR99y",
        "outputId": "36ccc876-2ad8-4fc9-aaf7-a3b667fac4c0"
      },
      "execution_count": 72,
      "outputs": [
        {
          "output_type": "execute_result",
          "data": {
            "text/plain": [
              "   Temperature Fever_Severity  Age  Gender   BMI Headache Body_Ache Fatigue  \\\n",
              "0         36.1         Normal   89  Female  24.0       No       Yes      No   \n",
              "1         37.5     Mild Fever   94    Male  26.6       No        No      No   \n",
              "2         36.4         Normal   92    Male  27.8       No        No      No   \n",
              "3         39.8     High Fever   66    Male  18.7       No       Yes      No   \n",
              "4         39.3     High Fever   28    Male  21.0       No       Yes      No   \n",
              "\n",
              "  Chronic_Conditions Allergies Smoking_History Alcohol_Consumption  Humidity  \\\n",
              "0                 No       Yes              No                 Yes      81.4   \n",
              "1                Yes        No             Yes                 Yes      44.4   \n",
              "2                 No        No              No                 Yes      73.7   \n",
              "3                 No        No              No                  No      44.1   \n",
              "4                Yes       Yes             Yes                 Yes      65.9   \n",
              "\n",
              "   AQI Physical_Activity       Diet_Type  Heart_Rate Blood_Pressure  \\\n",
              "0  430          Moderate           Vegan          72         Normal   \n",
              "1   10            Active      Vegetarian          62           High   \n",
              "2  400         Sedentary           Vegan          85           High   \n",
              "3  438            Active  Non-Vegetarian          96           High   \n",
              "4  451            Active      Vegetarian          85            Low   \n",
              "\n",
              "  Previous_Medication Recommended_Medication  \n",
              "0                None              Ibuprofen  \n",
              "1           Ibuprofen            Paracetamol  \n",
              "2                None              Ibuprofen  \n",
              "3           Ibuprofen              Ibuprofen  \n",
              "4         Paracetamol              Ibuprofen  "
            ],
            "text/html": [
              "\n",
              "  <div id=\"df-cbcc8883-999a-454c-b918-7373b950239c\" class=\"colab-df-container\">\n",
              "    <div>\n",
              "<style scoped>\n",
              "    .dataframe tbody tr th:only-of-type {\n",
              "        vertical-align: middle;\n",
              "    }\n",
              "\n",
              "    .dataframe tbody tr th {\n",
              "        vertical-align: top;\n",
              "    }\n",
              "\n",
              "    .dataframe thead th {\n",
              "        text-align: right;\n",
              "    }\n",
              "</style>\n",
              "<table border=\"1\" class=\"dataframe\">\n",
              "  <thead>\n",
              "    <tr style=\"text-align: right;\">\n",
              "      <th></th>\n",
              "      <th>Temperature</th>\n",
              "      <th>Fever_Severity</th>\n",
              "      <th>Age</th>\n",
              "      <th>Gender</th>\n",
              "      <th>BMI</th>\n",
              "      <th>Headache</th>\n",
              "      <th>Body_Ache</th>\n",
              "      <th>Fatigue</th>\n",
              "      <th>Chronic_Conditions</th>\n",
              "      <th>Allergies</th>\n",
              "      <th>Smoking_History</th>\n",
              "      <th>Alcohol_Consumption</th>\n",
              "      <th>Humidity</th>\n",
              "      <th>AQI</th>\n",
              "      <th>Physical_Activity</th>\n",
              "      <th>Diet_Type</th>\n",
              "      <th>Heart_Rate</th>\n",
              "      <th>Blood_Pressure</th>\n",
              "      <th>Previous_Medication</th>\n",
              "      <th>Recommended_Medication</th>\n",
              "    </tr>\n",
              "  </thead>\n",
              "  <tbody>\n",
              "    <tr>\n",
              "      <th>0</th>\n",
              "      <td>36.1</td>\n",
              "      <td>Normal</td>\n",
              "      <td>89</td>\n",
              "      <td>Female</td>\n",
              "      <td>24.0</td>\n",
              "      <td>No</td>\n",
              "      <td>Yes</td>\n",
              "      <td>No</td>\n",
              "      <td>No</td>\n",
              "      <td>Yes</td>\n",
              "      <td>No</td>\n",
              "      <td>Yes</td>\n",
              "      <td>81.4</td>\n",
              "      <td>430</td>\n",
              "      <td>Moderate</td>\n",
              "      <td>Vegan</td>\n",
              "      <td>72</td>\n",
              "      <td>Normal</td>\n",
              "      <td>None</td>\n",
              "      <td>Ibuprofen</td>\n",
              "    </tr>\n",
              "    <tr>\n",
              "      <th>1</th>\n",
              "      <td>37.5</td>\n",
              "      <td>Mild Fever</td>\n",
              "      <td>94</td>\n",
              "      <td>Male</td>\n",
              "      <td>26.6</td>\n",
              "      <td>No</td>\n",
              "      <td>No</td>\n",
              "      <td>No</td>\n",
              "      <td>Yes</td>\n",
              "      <td>No</td>\n",
              "      <td>Yes</td>\n",
              "      <td>Yes</td>\n",
              "      <td>44.4</td>\n",
              "      <td>10</td>\n",
              "      <td>Active</td>\n",
              "      <td>Vegetarian</td>\n",
              "      <td>62</td>\n",
              "      <td>High</td>\n",
              "      <td>Ibuprofen</td>\n",
              "      <td>Paracetamol</td>\n",
              "    </tr>\n",
              "    <tr>\n",
              "      <th>2</th>\n",
              "      <td>36.4</td>\n",
              "      <td>Normal</td>\n",
              "      <td>92</td>\n",
              "      <td>Male</td>\n",
              "      <td>27.8</td>\n",
              "      <td>No</td>\n",
              "      <td>No</td>\n",
              "      <td>No</td>\n",
              "      <td>No</td>\n",
              "      <td>No</td>\n",
              "      <td>No</td>\n",
              "      <td>Yes</td>\n",
              "      <td>73.7</td>\n",
              "      <td>400</td>\n",
              "      <td>Sedentary</td>\n",
              "      <td>Vegan</td>\n",
              "      <td>85</td>\n",
              "      <td>High</td>\n",
              "      <td>None</td>\n",
              "      <td>Ibuprofen</td>\n",
              "    </tr>\n",
              "    <tr>\n",
              "      <th>3</th>\n",
              "      <td>39.8</td>\n",
              "      <td>High Fever</td>\n",
              "      <td>66</td>\n",
              "      <td>Male</td>\n",
              "      <td>18.7</td>\n",
              "      <td>No</td>\n",
              "      <td>Yes</td>\n",
              "      <td>No</td>\n",
              "      <td>No</td>\n",
              "      <td>No</td>\n",
              "      <td>No</td>\n",
              "      <td>No</td>\n",
              "      <td>44.1</td>\n",
              "      <td>438</td>\n",
              "      <td>Active</td>\n",
              "      <td>Non-Vegetarian</td>\n",
              "      <td>96</td>\n",
              "      <td>High</td>\n",
              "      <td>Ibuprofen</td>\n",
              "      <td>Ibuprofen</td>\n",
              "    </tr>\n",
              "    <tr>\n",
              "      <th>4</th>\n",
              "      <td>39.3</td>\n",
              "      <td>High Fever</td>\n",
              "      <td>28</td>\n",
              "      <td>Male</td>\n",
              "      <td>21.0</td>\n",
              "      <td>No</td>\n",
              "      <td>Yes</td>\n",
              "      <td>No</td>\n",
              "      <td>Yes</td>\n",
              "      <td>Yes</td>\n",
              "      <td>Yes</td>\n",
              "      <td>Yes</td>\n",
              "      <td>65.9</td>\n",
              "      <td>451</td>\n",
              "      <td>Active</td>\n",
              "      <td>Vegetarian</td>\n",
              "      <td>85</td>\n",
              "      <td>Low</td>\n",
              "      <td>Paracetamol</td>\n",
              "      <td>Ibuprofen</td>\n",
              "    </tr>\n",
              "  </tbody>\n",
              "</table>\n",
              "</div>\n",
              "    <div class=\"colab-df-buttons\">\n",
              "\n",
              "  <div class=\"colab-df-container\">\n",
              "    <button class=\"colab-df-convert\" onclick=\"convertToInteractive('df-cbcc8883-999a-454c-b918-7373b950239c')\"\n",
              "            title=\"Convert this dataframe to an interactive table.\"\n",
              "            style=\"display:none;\">\n",
              "\n",
              "  <svg xmlns=\"http://www.w3.org/2000/svg\" height=\"24px\" viewBox=\"0 -960 960 960\">\n",
              "    <path d=\"M120-120v-720h720v720H120Zm60-500h600v-160H180v160Zm220 220h160v-160H400v160Zm0 220h160v-160H400v160ZM180-400h160v-160H180v160Zm440 0h160v-160H620v160ZM180-180h160v-160H180v160Zm440 0h160v-160H620v160Z\"/>\n",
              "  </svg>\n",
              "    </button>\n",
              "\n",
              "  <style>\n",
              "    .colab-df-container {\n",
              "      display:flex;\n",
              "      gap: 12px;\n",
              "    }\n",
              "\n",
              "    .colab-df-convert {\n",
              "      background-color: #E8F0FE;\n",
              "      border: none;\n",
              "      border-radius: 50%;\n",
              "      cursor: pointer;\n",
              "      display: none;\n",
              "      fill: #1967D2;\n",
              "      height: 32px;\n",
              "      padding: 0 0 0 0;\n",
              "      width: 32px;\n",
              "    }\n",
              "\n",
              "    .colab-df-convert:hover {\n",
              "      background-color: #E2EBFA;\n",
              "      box-shadow: 0px 1px 2px rgba(60, 64, 67, 0.3), 0px 1px 3px 1px rgba(60, 64, 67, 0.15);\n",
              "      fill: #174EA6;\n",
              "    }\n",
              "\n",
              "    .colab-df-buttons div {\n",
              "      margin-bottom: 4px;\n",
              "    }\n",
              "\n",
              "    [theme=dark] .colab-df-convert {\n",
              "      background-color: #3B4455;\n",
              "      fill: #D2E3FC;\n",
              "    }\n",
              "\n",
              "    [theme=dark] .colab-df-convert:hover {\n",
              "      background-color: #434B5C;\n",
              "      box-shadow: 0px 1px 3px 1px rgba(0, 0, 0, 0.15);\n",
              "      filter: drop-shadow(0px 1px 2px rgba(0, 0, 0, 0.3));\n",
              "      fill: #FFFFFF;\n",
              "    }\n",
              "  </style>\n",
              "\n",
              "    <script>\n",
              "      const buttonEl =\n",
              "        document.querySelector('#df-cbcc8883-999a-454c-b918-7373b950239c button.colab-df-convert');\n",
              "      buttonEl.style.display =\n",
              "        google.colab.kernel.accessAllowed ? 'block' : 'none';\n",
              "\n",
              "      async function convertToInteractive(key) {\n",
              "        const element = document.querySelector('#df-cbcc8883-999a-454c-b918-7373b950239c');\n",
              "        const dataTable =\n",
              "          await google.colab.kernel.invokeFunction('convertToInteractive',\n",
              "                                                    [key], {});\n",
              "        if (!dataTable) return;\n",
              "\n",
              "        const docLinkHtml = 'Like what you see? Visit the ' +\n",
              "          '<a target=\"_blank\" href=https://colab.research.google.com/notebooks/data_table.ipynb>data table notebook</a>'\n",
              "          + ' to learn more about interactive tables.';\n",
              "        element.innerHTML = '';\n",
              "        dataTable['output_type'] = 'display_data';\n",
              "        await google.colab.output.renderOutput(dataTable, element);\n",
              "        const docLink = document.createElement('div');\n",
              "        docLink.innerHTML = docLinkHtml;\n",
              "        element.appendChild(docLink);\n",
              "      }\n",
              "    </script>\n",
              "  </div>\n",
              "\n",
              "\n",
              "<div id=\"df-93d0ea41-e74b-49cc-85f0-d8fdbf12fdba\">\n",
              "  <button class=\"colab-df-quickchart\" onclick=\"quickchart('df-93d0ea41-e74b-49cc-85f0-d8fdbf12fdba')\"\n",
              "            title=\"Suggest charts\"\n",
              "            style=\"display:none;\">\n",
              "\n",
              "<svg xmlns=\"http://www.w3.org/2000/svg\" height=\"24px\"viewBox=\"0 0 24 24\"\n",
              "     width=\"24px\">\n",
              "    <g>\n",
              "        <path d=\"M19 3H5c-1.1 0-2 .9-2 2v14c0 1.1.9 2 2 2h14c1.1 0 2-.9 2-2V5c0-1.1-.9-2-2-2zM9 17H7v-7h2v7zm4 0h-2V7h2v10zm4 0h-2v-4h2v4z\"/>\n",
              "    </g>\n",
              "</svg>\n",
              "  </button>\n",
              "\n",
              "<style>\n",
              "  .colab-df-quickchart {\n",
              "      --bg-color: #E8F0FE;\n",
              "      --fill-color: #1967D2;\n",
              "      --hover-bg-color: #E2EBFA;\n",
              "      --hover-fill-color: #174EA6;\n",
              "      --disabled-fill-color: #AAA;\n",
              "      --disabled-bg-color: #DDD;\n",
              "  }\n",
              "\n",
              "  [theme=dark] .colab-df-quickchart {\n",
              "      --bg-color: #3B4455;\n",
              "      --fill-color: #D2E3FC;\n",
              "      --hover-bg-color: #434B5C;\n",
              "      --hover-fill-color: #FFFFFF;\n",
              "      --disabled-bg-color: #3B4455;\n",
              "      --disabled-fill-color: #666;\n",
              "  }\n",
              "\n",
              "  .colab-df-quickchart {\n",
              "    background-color: var(--bg-color);\n",
              "    border: none;\n",
              "    border-radius: 50%;\n",
              "    cursor: pointer;\n",
              "    display: none;\n",
              "    fill: var(--fill-color);\n",
              "    height: 32px;\n",
              "    padding: 0;\n",
              "    width: 32px;\n",
              "  }\n",
              "\n",
              "  .colab-df-quickchart:hover {\n",
              "    background-color: var(--hover-bg-color);\n",
              "    box-shadow: 0 1px 2px rgba(60, 64, 67, 0.3), 0 1px 3px 1px rgba(60, 64, 67, 0.15);\n",
              "    fill: var(--button-hover-fill-color);\n",
              "  }\n",
              "\n",
              "  .colab-df-quickchart-complete:disabled,\n",
              "  .colab-df-quickchart-complete:disabled:hover {\n",
              "    background-color: var(--disabled-bg-color);\n",
              "    fill: var(--disabled-fill-color);\n",
              "    box-shadow: none;\n",
              "  }\n",
              "\n",
              "  .colab-df-spinner {\n",
              "    border: 2px solid var(--fill-color);\n",
              "    border-color: transparent;\n",
              "    border-bottom-color: var(--fill-color);\n",
              "    animation:\n",
              "      spin 1s steps(1) infinite;\n",
              "  }\n",
              "\n",
              "  @keyframes spin {\n",
              "    0% {\n",
              "      border-color: transparent;\n",
              "      border-bottom-color: var(--fill-color);\n",
              "      border-left-color: var(--fill-color);\n",
              "    }\n",
              "    20% {\n",
              "      border-color: transparent;\n",
              "      border-left-color: var(--fill-color);\n",
              "      border-top-color: var(--fill-color);\n",
              "    }\n",
              "    30% {\n",
              "      border-color: transparent;\n",
              "      border-left-color: var(--fill-color);\n",
              "      border-top-color: var(--fill-color);\n",
              "      border-right-color: var(--fill-color);\n",
              "    }\n",
              "    40% {\n",
              "      border-color: transparent;\n",
              "      border-right-color: var(--fill-color);\n",
              "      border-top-color: var(--fill-color);\n",
              "    }\n",
              "    60% {\n",
              "      border-color: transparent;\n",
              "      border-right-color: var(--fill-color);\n",
              "    }\n",
              "    80% {\n",
              "      border-color: transparent;\n",
              "      border-right-color: var(--fill-color);\n",
              "      border-bottom-color: var(--fill-color);\n",
              "    }\n",
              "    90% {\n",
              "      border-color: transparent;\n",
              "      border-bottom-color: var(--fill-color);\n",
              "    }\n",
              "  }\n",
              "</style>\n",
              "\n",
              "  <script>\n",
              "    async function quickchart(key) {\n",
              "      const quickchartButtonEl =\n",
              "        document.querySelector('#' + key + ' button');\n",
              "      quickchartButtonEl.disabled = true;  // To prevent multiple clicks.\n",
              "      quickchartButtonEl.classList.add('colab-df-spinner');\n",
              "      try {\n",
              "        const charts = await google.colab.kernel.invokeFunction(\n",
              "            'suggestCharts', [key], {});\n",
              "      } catch (error) {\n",
              "        console.error('Error during call to suggestCharts:', error);\n",
              "      }\n",
              "      quickchartButtonEl.classList.remove('colab-df-spinner');\n",
              "      quickchartButtonEl.classList.add('colab-df-quickchart-complete');\n",
              "    }\n",
              "    (() => {\n",
              "      let quickchartButtonEl =\n",
              "        document.querySelector('#df-93d0ea41-e74b-49cc-85f0-d8fdbf12fdba button');\n",
              "      quickchartButtonEl.style.display =\n",
              "        google.colab.kernel.accessAllowed ? 'block' : 'none';\n",
              "    })();\n",
              "  </script>\n",
              "</div>\n",
              "\n",
              "    </div>\n",
              "  </div>\n"
            ],
            "application/vnd.google.colaboratory.intrinsic+json": {
              "type": "dataframe",
              "variable_name": "data",
              "summary": "{\n  \"name\": \"data\",\n  \"rows\": 1000,\n  \"fields\": [\n    {\n      \"column\": \"Temperature\",\n      \"properties\": {\n        \"dtype\": \"number\",\n        \"std\": 1.1388704122137074,\n        \"min\": 36.0,\n        \"max\": 40.0,\n        \"num_unique_values\": 41,\n        \"samples\": [\n          38.0,\n          38.1,\n          36.7\n        ],\n        \"semantic_type\": \"\",\n        \"description\": \"\"\n      }\n    },\n    {\n      \"column\": \"Fever_Severity\",\n      \"properties\": {\n        \"dtype\": \"category\",\n        \"num_unique_values\": 3,\n        \"samples\": [\n          \"Normal\",\n          \"Mild Fever\",\n          \"High Fever\"\n        ],\n        \"semantic_type\": \"\",\n        \"description\": \"\"\n      }\n    },\n    {\n      \"column\": \"Age\",\n      \"properties\": {\n        \"dtype\": \"number\",\n        \"std\": 28,\n        \"min\": 1,\n        \"max\": 100,\n        \"num_unique_values\": 100,\n        \"samples\": [\n          43,\n          70,\n          62\n        ],\n        \"semantic_type\": \"\",\n        \"description\": \"\"\n      }\n    },\n    {\n      \"column\": \"Gender\",\n      \"properties\": {\n        \"dtype\": \"category\",\n        \"num_unique_values\": 2,\n        \"samples\": [\n          \"Male\",\n          \"Female\"\n        ],\n        \"semantic_type\": \"\",\n        \"description\": \"\"\n      }\n    },\n    {\n      \"column\": \"BMI\",\n      \"properties\": {\n        \"dtype\": \"number\",\n        \"std\": 4.901150378741198,\n        \"min\": 18.0,\n        \"max\": 35.0,\n        \"num_unique_values\": 170,\n        \"samples\": [\n          35.0,\n          33.4\n        ],\n        \"semantic_type\": \"\",\n        \"description\": \"\"\n      }\n    },\n    {\n      \"column\": \"Headache\",\n      \"properties\": {\n        \"dtype\": \"category\",\n        \"num_unique_values\": 2,\n        \"samples\": [\n          \"Yes\",\n          \"No\"\n        ],\n        \"semantic_type\": \"\",\n        \"description\": \"\"\n      }\n    },\n    {\n      \"column\": \"Body_Ache\",\n      \"properties\": {\n        \"dtype\": \"category\",\n        \"num_unique_values\": 2,\n        \"samples\": [\n          \"No\",\n          \"Yes\"\n        ],\n        \"semantic_type\": \"\",\n        \"description\": \"\"\n      }\n    },\n    {\n      \"column\": \"Fatigue\",\n      \"properties\": {\n        \"dtype\": \"category\",\n        \"num_unique_values\": 2,\n        \"samples\": [\n          \"Yes\",\n          \"No\"\n        ],\n        \"semantic_type\": \"\",\n        \"description\": \"\"\n      }\n    },\n    {\n      \"column\": \"Chronic_Conditions\",\n      \"properties\": {\n        \"dtype\": \"category\",\n        \"num_unique_values\": 2,\n        \"samples\": [\n          \"Yes\",\n          \"No\"\n        ],\n        \"semantic_type\": \"\",\n        \"description\": \"\"\n      }\n    },\n    {\n      \"column\": \"Allergies\",\n      \"properties\": {\n        \"dtype\": \"category\",\n        \"num_unique_values\": 2,\n        \"samples\": [\n          \"No\",\n          \"Yes\"\n        ],\n        \"semantic_type\": \"\",\n        \"description\": \"\"\n      }\n    },\n    {\n      \"column\": \"Smoking_History\",\n      \"properties\": {\n        \"dtype\": \"category\",\n        \"num_unique_values\": 2,\n        \"samples\": [\n          \"Yes\",\n          \"No\"\n        ],\n        \"semantic_type\": \"\",\n        \"description\": \"\"\n      }\n    },\n    {\n      \"column\": \"Alcohol_Consumption\",\n      \"properties\": {\n        \"dtype\": \"category\",\n        \"num_unique_values\": 2,\n        \"samples\": [\n          \"No\",\n          \"Yes\"\n        ],\n        \"semantic_type\": \"\",\n        \"description\": \"\"\n      }\n    },\n    {\n      \"column\": \"Humidity\",\n      \"properties\": {\n        \"dtype\": \"number\",\n        \"std\": 17.05847473252518,\n        \"min\": 30.0,\n        \"max\": 90.0,\n        \"num_unique_values\": 489,\n        \"samples\": [\n          65.0,\n          35.8\n        ],\n        \"semantic_type\": \"\",\n        \"description\": \"\"\n      }\n    },\n    {\n      \"column\": \"AQI\",\n      \"properties\": {\n        \"dtype\": \"number\",\n        \"std\": 143,\n        \"min\": 0,\n        \"max\": 499,\n        \"num_unique_values\": 428,\n        \"samples\": [\n          234,\n          151\n        ],\n        \"semantic_type\": \"\",\n        \"description\": \"\"\n      }\n    },\n    {\n      \"column\": \"Physical_Activity\",\n      \"properties\": {\n        \"dtype\": \"category\",\n        \"num_unique_values\": 3,\n        \"samples\": [\n          \"Moderate\",\n          \"Active\"\n        ],\n        \"semantic_type\": \"\",\n        \"description\": \"\"\n      }\n    },\n    {\n      \"column\": \"Diet_Type\",\n      \"properties\": {\n        \"dtype\": \"category\",\n        \"num_unique_values\": 3,\n        \"samples\": [\n          \"Vegan\",\n          \"Vegetarian\"\n        ],\n        \"semantic_type\": \"\",\n        \"description\": \"\"\n      }\n    },\n    {\n      \"column\": \"Heart_Rate\",\n      \"properties\": {\n        \"dtype\": \"number\",\n        \"std\": 11,\n        \"min\": 60,\n        \"max\": 100,\n        \"num_unique_values\": 41,\n        \"samples\": [\n          89,\n          97\n        ],\n        \"semantic_type\": \"\",\n        \"description\": \"\"\n      }\n    },\n    {\n      \"column\": \"Blood_Pressure\",\n      \"properties\": {\n        \"dtype\": \"category\",\n        \"num_unique_values\": 3,\n        \"samples\": [\n          \"Normal\",\n          \"High\"\n        ],\n        \"semantic_type\": \"\",\n        \"description\": \"\"\n      }\n    },\n    {\n      \"column\": \"Previous_Medication\",\n      \"properties\": {\n        \"dtype\": \"category\",\n        \"num_unique_values\": 4,\n        \"samples\": [\n          \"Ibuprofen\",\n          \"Aspirin\"\n        ],\n        \"semantic_type\": \"\",\n        \"description\": \"\"\n      }\n    },\n    {\n      \"column\": \"Recommended_Medication\",\n      \"properties\": {\n        \"dtype\": \"category\",\n        \"num_unique_values\": 2,\n        \"samples\": [\n          \"Paracetamol\",\n          \"Ibuprofen\"\n        ],\n        \"semantic_type\": \"\",\n        \"description\": \"\"\n      }\n    }\n  ]\n}"
            }
          },
          "metadata": {},
          "execution_count": 72
        }
      ]
    },
    {
      "cell_type": "code",
      "source": [
        "import pandas as pd\n",
        "import joblib\n",
        "\n",
        "model = joblib.load('fever_model.pkl')\n",
        "encoder = joblib.load('label_encoder.pkl')\n",
        "scaler = joblib.load('scaler.pkl')\n",
        "\n",
        "\n",
        "def encode_with_fallback(data, encoder, column):\n",
        "    unique_categories = list(encoder.classes_)\n",
        "    data[column] = data[column].apply(lambda x: x if x in unique_categories else unique_categories[0])\n",
        "    return encoder.transform(data[column])\n",
        "\n",
        "\n",
        "sample_data = {\n",
        "    'Temperature': [101.5],\n",
        "    'Age': [25],\n",
        "    'Gender': ['Male'],\n",
        "    'BMI': [22.5],\n",
        "    'Headache': ['Yes'],\n",
        "    'Body_Ache': ['Yes'],\n",
        "    'Fatigue': ['No'],\n",
        "    'Chronic_Conditions': ['None'],\n",
        "    'Allergies': ['None'],\n",
        "    'Smoking_History': ['No'],\n",
        "    'Alcohol_Consumption': ['No'],\n",
        "    'Humidity': [45.0],\n",
        "    'AQI': [70],\n",
        "    'Physical_Activity': ['Moderate'],\n",
        "    'Diet_Type': ['Vegetarian'],\n",
        "    'Heart_Rate': [72],\n",
        "    'Blood_Pressure': ['Normal'],\n",
        "    'Previous_Medication': ['None'],\n",
        "}\n",
        "\n",
        "\n",
        "input_df = pd.DataFrame(sample_data)\n",
        "\n",
        "\n",
        "categorical_columns = input_df.select_dtypes(include=['object']).columns\n",
        "for column in categorical_columns:\n",
        "    input_df[column] = encode_with_fallback(input_df, encoder, column)\n",
        "\n",
        "\n",
        "numerical_columns = input_df.select_dtypes(include=['float64', 'int64']).columns\n",
        "input_df[numerical_columns] = scaler.transform(input_df[numerical_columns])\n",
        "\n",
        "# Predict\n",
        "prediction = model.predict(input_df)\n",
        "print(\"Predicted Fever Severity:\", prediction[0])\n"
      ],
      "metadata": {
        "colab": {
          "base_uri": "https://localhost:8080/"
        },
        "id": "Q016zyL9SDvd",
        "outputId": "3d0f901e-df75-418e-fcce-90969b430af3"
      },
      "execution_count": 73,
      "outputs": [
        {
          "output_type": "stream",
          "name": "stdout",
          "text": [
            "Predicted Fever Severity: High Fever\n"
          ]
        }
      ]
    },
    {
      "cell_type": "code",
      "source": [
        "import pandas as pd\n",
        "import seaborn as sns\n",
        "import matplotlib.pyplot as plt\n",
        "from sklearn.ensemble import RandomForestClassifier\n",
        "from sklearn.model_selection import train_test_split\n",
        "from sklearn.preprocessing import LabelEncoder, StandardScaler\n",
        "from sklearn.metrics import classification_report, confusion_matrix"
      ],
      "metadata": {
        "id": "iuKBrFN5TJ4L"
      },
      "execution_count": 74,
      "outputs": []
    },
    {
      "cell_type": "code",
      "source": [
        "plt.figure(figsize=(10, 6))\n",
        "sns.countplot(data=data, x='Fever_Severity', palette='viridis')\n",
        "plt.title(\"Distribution of Fever Severity\")\n",
        "plt.show()"
      ],
      "metadata": {
        "colab": {
          "base_uri": "https://localhost:8080/",
          "height": 671
        },
        "id": "xvu1OqHwTLkW",
        "outputId": "ba7a5f43-3a36-44f9-d621-e2b73d45d38d"
      },
      "execution_count": 75,
      "outputs": [
        {
          "output_type": "stream",
          "name": "stderr",
          "text": [
            "<ipython-input-75-667e000b42f0>:2: FutureWarning: \n",
            "\n",
            "Passing `palette` without assigning `hue` is deprecated and will be removed in v0.14.0. Assign the `x` variable to `hue` and set `legend=False` for the same effect.\n",
            "\n",
            "  sns.countplot(data=data, x='Fever_Severity', palette='viridis')\n"
          ]
        },
        {
          "output_type": "display_data",
          "data": {
            "text/plain": [
              "<Figure size 1000x600 with 1 Axes>"
            ],
            "image/png": "[encoded data removed]"
          },
          "metadata": {}
        }
      ]
    },
    {
      "cell_type": "code",
      "source": [
        "cm = confusion_matrix(y_test, y_pred)\n",
        "\n",
        "plt.figure(figsize=(10, 6))\n",
        "sns.heatmap(cm,annot=True, fmt='d', cmap='Blues', xticklabels=model.classes_, yticklabels=model.classes_)\n",
        "plt.xlabel(\"Predicted Labels\")\n",
        "plt.ylabel(\"True Labels\")\n",
        "plt.title(\"Confusion Matrix Heatmap\")\n",
        "plt.show()"
      ],
      "metadata": {
        "colab": {
          "base_uri": "https://localhost:8080/",
          "height": 564
        },
        "id": "_g-NYyqsTmdy",
        "outputId": "b7c6c8c9-a0e5-444c-c580-20b3348d148f"
      },
      "execution_count": 76,
      "outputs": [
        {
          "output_type": "display_data",
          "data": {
            "text/plain": [
              "<Figure size 1000x600 with 2 Axes>"
            ],
            "image/png": "[encoded data removed]"
          },
          "metadata": {}
        }
      ]
    },
    {
      "cell_type": "code",
      "source": [
        "import numpy as np\n",
        "\n",
        "sample_data = {\n",
        "    'Temperature': [101.5],\n",
        "    'Age': [25],\n",
        "    'Gender': ['Male'],\n",
        "    'BMI': [22.5],\n",
        "    'Headache': ['Yes'],\n",
        "    'Body_Ache': ['Yes'],\n",
        "    'Fatigue': ['No'],\n",
        "    'Chronic_Conditions': ['None'],\n",
        "    'Allergies': ['None'],\n",
        "    'Smoking_History': ['No'],\n",
        "    'Alcohol_Consumption': ['No'],\n",
        "    'Humidity': [45.0],\n",
        "    'AQI': [70],\n",
        "    'Physical_Activity': ['Moderate'],\n",
        "    'Diet_Type': ['Vegetarian'],\n",
        "    'Heart_Rate': [72],\n",
        "    'Blood_Pressure': ['Normal'],\n",
        "    'Previous_Medication': ['None'],\n",
        "}\n",
        "\n",
        "\n",
        "input_df = pd.DataFrame(sample_data)\n",
        "\n",
        "\n",
        "def encode_with_fallback(df, encoder, column):\n",
        "    \"\"\"Encodes a column using an existing LabelEncoder with a fallback for unseen labels.\"\"\"\n",
        "    try:\n",
        "        return encoder.transform(df[column])\n",
        "    except ValueError:\n",
        "\n",
        "        encoder.classes_ = np.append(encoder.classes_, df[column].unique())\n",
        "        return encoder.transform(df[column])\n",
        "\n",
        "categorical_columns = input_df.select_dtypes(include=['object']).columns\n",
        "for column in categorical_columns:\n",
        "    input_df[column] = encode_with_fallback(input_df, encoder, column)\n",
        "\n",
        "\n",
        "numerical_columns = input_df.select_dtypes(include=['float64', 'int64']).columns\n",
        "input_df[numerical_columns] = scaler.transform(input_df[numerical_columns])\n",
        "\n",
        "\n",
        "prediction = model.predict(input_df)\n",
        "print(\"Predicted Fever Severity:\", prediction[0])\n",
        "\n"
      ],
      "metadata": {
        "colab": {
          "base_uri": "https://localhost:8080/"
        },
        "id": "1IcmAPeqVZZf",
        "outputId": "b4613693-5108-4a76-aa42-05c013733e11"
      },
      "execution_count": 77,
      "outputs": [
        {
          "output_type": "stream",
          "name": "stdout",
          "text": [
            "Predicted Fever Severity: High Fever\n"
          ]
        }
      ]
    },
    {
      "cell_type": "code",
      "source": [
        "# Define the sample input for a person with no fever\n",
        "sample_data_no_fever = {\n",
        "    'Temperature': [98.6],  # Normal temperature\n",
        "    'Age': [30],\n",
        "    'Gender': ['Female'],\n",
        "    'BMI': [20.0],  # Healthy BMI\n",
        "    'Headache': ['No'],  # No headache\n",
        "    'Body_Ache': ['No'],  # No body ache\n",
        "    'Fatigue': ['No'],  # No fatigue\n",
        "    'Chronic_Conditions': ['None'],  # No chronic conditions\n",
        "    'Allergies': ['None'],  # No allergies\n",
        "    'Smoking_History': ['No'],  # Non-smoker\n",
        "    'Alcohol_Consumption': ['No'],  # No alcohol consumption\n",
        "    'Humidity': [50.0],  # Moderate humidity\n",
        "    'AQI': [30],  # Good air quality index\n",
        "    'Physical_Activity': ['Active'],  # Regular physical activity\n",
        "    'Diet_Type': ['Balanced'],  # Balanced diet\n",
        "    'Heart_Rate': [70],  # Normal heart rate\n",
        "    'Blood_Pressure': ['Normal'],  # Normal blood pressure\n",
        "    'Previous_Medication': ['None'],  # No previous medication\n",
        "}\n",
        "\n",
        "# Convert input to DataFrame\n",
        "input_df_no_fever = pd.DataFrame(sample_data_no_fever)\n",
        "\n",
        "# Encode categorical features with fallback\n",
        "categorical_columns = input_df_no_fever.select_dtypes(include=['object']).columns\n",
        "for column in categorical_columns:\n",
        "    input_df_no_fever[column] = encode_with_fallback(input_df_no_fever, encoder, column)\n",
        "\n",
        "# Scale numerical features\n",
        "numerical_columns = input_df_no_fever.select_dtypes(include=['float64', 'int64']).columns\n",
        "input_df_no_fever[numerical_columns] = scaler.transform(input_df_no_fever[numerical_columns])\n",
        "\n",
        "# Predict the fever severity\n",
        "prediction_no_fever = model.predict(input_df_no_fever)\n",
        "print(\"Predicted Fever Severity:\", prediction_no_fever[0])\n"
      ],
      "metadata": {
        "colab": {
          "base_uri": "https://localhost:8080/"
        },
        "id": "hprBxAT3WAia",
        "outputId": "bda0d073-4a3a-4264-94ad-702c8f6d85a3"
      },
      "execution_count": 78,
      "outputs": [
        {
          "output_type": "stream",
          "name": "stdout",
          "text": [
            "Predicted Fever Severity: High Fever\n"
          ]
        }
      ]
    },
    {
      "cell_type": "code",
      "source": [
        "print(\"Scaled Numerical Features:\")\n",
        "print(input_df_no_fever[numerical_columns])\n"
      ],
      "metadata": {
        "colab": {
          "base_uri": "https://localhost:8080/"
        },
        "id": "D4G-fXIZWbWB",
        "outputId": "447be486-9282-4fcd-b41d-0126a3ca6f56"
      },
      "execution_count": 79,
      "outputs": [
        {
          "output_type": "stream",
          "name": "stdout",
          "text": [
            "Scaled Numerical Features:\n",
            "   Temperature       Age     Gender       BMI  Headache  Body_Ache   Fatigue  \\\n",
            "0    53.150361 -0.732945  19.029481 -1.315288  10.97494   10.97494  11.01741   \n",
            "\n",
            "   Chronic_Conditions  Allergies  Smoking_History  Alcohol_Consumption  \\\n",
            "0            2.969521   3.046951        10.987077            10.965608   \n",
            "\n",
            "   Humidity       AQI  Physical_Activity  Diet_Type  Heart_Rate  \\\n",
            "0 -0.621374 -1.521185          12.079466  13.500925   -0.860678   \n",
            "\n",
            "   Blood_Pressure  Previous_Medication  \n",
            "0        9.896565             0.444898  \n"
          ]
        }
      ]
    },
    {
      "cell_type": "code",
      "source": [
        "print(\"Unique values in training data for Gender:\", data['Gender'].unique())\n",
        "print(\"Unique values in input data for Gender:\", sample_data['Gender'])\n"
      ],
      "metadata": {
        "colab": {
          "base_uri": "https://localhost:8080/"
        },
        "id": "ab5Czbf7XcfW",
        "outputId": "68a51a90-6e84-4e1c-e71b-a28205eabbe3"
      },
      "execution_count": 80,
      "outputs": [
        {
          "output_type": "stream",
          "name": "stdout",
          "text": [
            "Unique values in training data for Gender: ['Female' 'Male']\n",
            "Unique values in input data for Gender: ['Male']\n"
          ]
        }
      ]
    },
    {
      "cell_type": "code",
      "source": [
        "print(\"Scaler mean:\", scaler.mean_)\n",
        "print(\"Scaler scale:\", scaler.scale_)\n"
      ],
      "metadata": {
        "colab": {
          "base_uri": "https://localhost:8080/"
        },
        "id": "YNJsK6-4XmT7",
        "outputId": "dff574c0-9b8a-48a6-c14a-a334b04abd1a"
      },
      "execution_count": 81,
      "outputs": [
        {
          "output_type": "stream",
          "name": "stdout",
          "text": [
            "Scaler mean: [ 38.0989  51.152    0.488   26.4432   0.515    0.515    0.492    0.516\n",
            "   0.478    0.507    0.523   60.5944 248.493    0.962    0.972   80.144\n",
            "   0.991    1.501 ]\n",
            "Scaler scale: [  1.13830083  28.85891363   0.49985598   4.89869919   0.49977495\n",
            "   0.49977495   0.499936     0.49974393   0.49951577   0.499951\n",
            "   0.49947072  17.04994336 143.63337339   0.83099699   0.81683291\n",
            "  11.78606228   0.80927066   1.12160555]\n"
          ]
        }
      ]
    },
    {
      "cell_type": "code",
      "source": [
        "def encode_with_fallback(input_df, encoder, column):\n",
        "    mapping = {category: i for i, category in enumerate(encoder.classes_)}\n",
        "    return input_df[column].map(lambda x: mapping.get(x, -1))  # Use -1 for unseen labels\n"
      ],
      "metadata": {
        "id": "frD-Iy8bXsRc"
      },
      "execution_count": 82,
      "outputs": []
    },
    {
      "cell_type": "code",
      "source": [
        "feature_importances = pd.DataFrame({\n",
        "    'Feature': features.columns,\n",
        "    'Importance': model.feature_importances_\n",
        "})\n",
        "print(feature_importances.sort_values(by='Importance', ascending=False))\n"
      ],
      "metadata": {
        "colab": {
          "base_uri": "https://localhost:8080/"
        },
        "id": "FGBMHnU3XxOa",
        "outputId": "836a8456-3d8a-46f6-9ed7-c60215ce8830"
      },
      "execution_count": 83,
      "outputs": [
        {
          "output_type": "stream",
          "name": "stdout",
          "text": [
            "                Feature  Importance\n",
            "0           Temperature    0.748677\n",
            "3                   BMI    0.038563\n",
            "11             Humidity    0.035680\n",
            "12                  AQI    0.032723\n",
            "1                   Age    0.031969\n",
            "15           Heart_Rate    0.026512\n",
            "17  Previous_Medication    0.012662\n",
            "16       Blood_Pressure    0.010873\n",
            "14            Diet_Type    0.008855\n",
            "13    Physical_Activity    0.007669\n",
            "4              Headache    0.006880\n",
            "5             Body_Ache    0.005895\n",
            "9       Smoking_History    0.005885\n",
            "10  Alcohol_Consumption    0.005779\n",
            "2                Gender    0.005712\n",
            "6               Fatigue    0.005392\n",
            "8             Allergies    0.005219\n",
            "7    Chronic_Conditions    0.005054\n"
          ]
        }
      ]
    },
    {
      "cell_type": "code",
      "source": [
        "# Verify encoded values\n",
        "print(\"Gender Mapping:\", encoder.classes_)\n",
        "print(\"Encoded Input Gender:\", input_df_no_fever['Gender'])\n",
        "\n",
        "# Verify scaled values\n",
        "print(\"Input Scaled Values:\", input_df_no_fever[numerical_columns])\n",
        "\n",
        "# Feature Importance\n",
        "importances = model.feature_importances_\n",
        "feature_importances = pd.DataFrame({'Feature': features.columns, 'Importance': importances})\n",
        "print(\"Feature Importance:\")\n",
        "print(feature_importances.sort_values(by='Importance', ascending=False))\n",
        "\n",
        "# Predict probabilities\n",
        "probabilities = model.predict_proba(input_df_no_fever)\n",
        "print(\"Prediction Probabilities:\", probabilities)\n"
      ],
      "metadata": {
        "colab": {
          "base_uri": "https://localhost:8080/"
        },
        "id": "XhHosQeoX4cZ",
        "outputId": "1185471f-b693-42a3-91b4-357602b7bcf3"
      },
      "execution_count": 84,
      "outputs": [
        {
          "output_type": "stream",
          "name": "stdout",
          "text": [
            "Gender Mapping: ['Aspirin' 'Ibuprofen' 'None' 'Paracetamol' 'Male' 'Yes' 'No' 'Moderate'\n",
            " 'Vegetarian' 'Normal' 'Female' 'Active' 'Balanced']\n",
            "Encoded Input Gender: 0    19.029481\n",
            "Name: Gender, dtype: float64\n",
            "Input Scaled Values:    Temperature       Age     Gender       BMI  Headache  Body_Ache   Fatigue  \\\n",
            "0    53.150361 -0.732945  19.029481 -1.315288  10.97494   10.97494  11.01741   \n",
            "\n",
            "   Chronic_Conditions  Allergies  Smoking_History  Alcohol_Consumption  \\\n",
            "0            2.969521   3.046951        10.987077            10.965608   \n",
            "\n",
            "   Humidity       AQI  Physical_Activity  Diet_Type  Heart_Rate  \\\n",
            "0 -0.621374 -1.521185          12.079466  13.500925   -0.860678   \n",
            "\n",
            "   Blood_Pressure  Previous_Medication  \n",
            "0        9.896565             0.444898  \n",
            "Feature Importance:\n",
            "                Feature  Importance\n",
            "0           Temperature    0.748677\n",
            "3                   BMI    0.038563\n",
            "11             Humidity    0.035680\n",
            "12                  AQI    0.032723\n",
            "1                   Age    0.031969\n",
            "15           Heart_Rate    0.026512\n",
            "17  Previous_Medication    0.012662\n",
            "16       Blood_Pressure    0.010873\n",
            "14            Diet_Type    0.008855\n",
            "13    Physical_Activity    0.007669\n",
            "4              Headache    0.006880\n",
            "5             Body_Ache    0.005895\n",
            "9       Smoking_History    0.005885\n",
            "10  Alcohol_Consumption    0.005779\n",
            "2                Gender    0.005712\n",
            "6               Fatigue    0.005392\n",
            "8             Allergies    0.005219\n",
            "7    Chronic_Conditions    0.005054\n",
            "Prediction Probabilities: [[0.9  0.04 0.06]]\n"
          ]
        }
      ]
    },
    {
      "cell_type": "code",
      "source": [
        "sample_data_no_fever = {\n",
        "    'Temperature': [37.0],\n",
        "    'Age': [30],\n",
        "    'Gender': ['Female'],\n",
        "    'BMI': [20.0],\n",
        "    'Headache': ['No'],\n",
        "    'Body_Ache': ['No'],\n",
        "    'Fatigue': ['No'],\n",
        "    'Chronic_Conditions': ['None'],\n",
        "    'Allergies': ['None'],\n",
        "    'Smoking_History': ['No'],\n",
        "    'Alcohol_Consumption': ['No'],\n",
        "    'Humidity': [50.0],\n",
        "    'AQI': [30],\n",
        "    'Physical_Activity': ['Active'],\n",
        "    'Diet_Type': ['Balanced'],\n",
        "    'Heart_Rate': [70],\n",
        "    'Blood_Pressure': ['Normal'],\n",
        "    'Previous_Medication': ['None'],\n",
        "}\n",
        "\n",
        "\n",
        "input_df_no_fever = pd.DataFrame(sample_data_no_fever)\n",
        "\n",
        "\n",
        "categorical_columns = input_df_no_fever.select_dtypes(include=['object']).columns\n",
        "for column in categorical_columns:\n",
        "    input_df_no_fever[column] = encode_with_fallback(input_df_no_fever, encoder, column)\n",
        "\n",
        "\n",
        "numerical_columns = input_df_no_fever.select_dtypes(include=['float64', 'int64']).columns\n",
        "input_df_no_fever[numerical_columns] = scaler.transform(input_df_no_fever[numerical_columns])\n",
        "\n",
        "\n",
        "prediction_no_fever = model.predict(input_df_no_fever)\n",
        "print(\"Predicted Fever Severity:\", prediction_no_fever[0])\n"
      ],
      "metadata": {
        "colab": {
          "base_uri": "https://localhost:8080/"
        },
        "id": "Am9aVy_TYBjI",
        "outputId": "dfb6c5db-63d2-4510-8893-05216ce06380"
      },
      "execution_count": 85,
      "outputs": [
        {
          "output_type": "stream",
          "name": "stdout",
          "text": [
            "Predicted Fever Severity: Normal\n"
          ]
        }
      ]
    },
    {
      "cell_type": "markdown",
      "source": [
        "**😭 It WORKS**"
      ],
      "metadata": {
        "id": "YsVbJEKtbkYd"
      }
    }
  ]
}